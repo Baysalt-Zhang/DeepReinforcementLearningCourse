{
 "cells": [
  {
   "cell_type": "code",
   "execution_count": 1,
   "id": "361af409",
   "metadata": {},
   "outputs": [
    {
     "ename": "ModuleNotFoundError",
     "evalue": "No module named 'cv2'",
     "output_type": "error",
     "traceback": [
      "\u001b[0;31m---------------------------------------------------------------------------\u001b[0m",
      "\u001b[0;31mModuleNotFoundError\u001b[0m                       Traceback (most recent call last)",
      "\u001b[0;32m<ipython-input-1-32e4ade60d10>\u001b[0m in \u001b[0;36m<module>\u001b[0;34m\u001b[0m\n\u001b[1;32m      2\u001b[0m \u001b[0;32mimport\u001b[0m \u001b[0msys\u001b[0m\u001b[0;34m\u001b[0m\u001b[0;34m\u001b[0m\u001b[0m\n\u001b[1;32m      3\u001b[0m \u001b[0;34m\u001b[0m\u001b[0m\n\u001b[0;32m----> 4\u001b[0;31m \u001b[0;32mimport\u001b[0m \u001b[0mcv2\u001b[0m\u001b[0;34m\u001b[0m\u001b[0;34m\u001b[0m\u001b[0m\n\u001b[0m\u001b[1;32m      5\u001b[0m \u001b[0;32mimport\u001b[0m \u001b[0mmatplotlib\u001b[0m\u001b[0;34m.\u001b[0m\u001b[0mpyplot\u001b[0m \u001b[0;32mas\u001b[0m \u001b[0mplt\u001b[0m\u001b[0;34m\u001b[0m\u001b[0;34m\u001b[0m\u001b[0m\n\u001b[1;32m      6\u001b[0m \u001b[0;32mimport\u001b[0m \u001b[0mpandas\u001b[0m \u001b[0;32mas\u001b[0m \u001b[0mpd\u001b[0m\u001b[0;34m\u001b[0m\u001b[0;34m\u001b[0m\u001b[0m\n",
      "\u001b[0;31mModuleNotFoundError\u001b[0m: No module named 'cv2'"
     ]
    }
   ],
   "source": [
    "import ast\n",
    "import sys\n",
    "\n",
    "import cv2\n",
    "import matplotlib.pyplot as plt\n",
    "import pandas as pd\n",
    "import PIL.Image\n",
    "import torch\n",
    "import torch.nn.functional as F\n",
    "\n",
    "sys.path.insert(0, '..')"
   ]
  },
  {
   "cell_type": "code",
   "execution_count": null,
   "id": "94e2853a",
   "metadata": {},
   "outputs": [],
   "source": [
    "from pytorch_image_classification import (\n",
    "    get_default_config,\n",
    "    create_model,\n",
    "    create_transform,\n",
    ")"
   ]
  },
  {
   "cell_type": "code",
   "execution_count": null,
   "id": "2ffdfa58",
   "metadata": {},
   "outputs": [],
   "source": [
    "config = get_default_config()\n",
    "config.merge_from_file('../configs/imagenet/resnet18.yaml')"
   ]
  },
  {
   "cell_type": "code",
   "execution_count": null,
   "id": "883044c9",
   "metadata": {},
   "outputs": [],
   "source": [
    "device = torch.device(config.device)\n",
    "\n",
    "model = create_model(config)\n",
    "checkpoint = torch.load(\n",
    "    '../experiments/imagenet/resnet18/exp00/checkpoint_00090.pth')\n",
    "\n",
    "model.load_state_dict(checkpoint['model'])\n",
    "model.to(device)\n",
    "_ = model.eval()"
   ]
  },
  {
   "cell_type": "code",
   "execution_count": null,
   "id": "ec6eca42",
   "metadata": {},
   "outputs": [],
   "source": [
    "transform = create_transform(config, is_train=False)"
   ]
  },
  {
   "cell_type": "code",
   "execution_count": null,
   "id": "f630fcbb",
   "metadata": {},
   "outputs": [],
   "source": [
    "%%capture\n",
    "!wget https://gist.githubusercontent.com/yrevar/942d3a0ac09ec9e5eb3a/raw/238f720ff059c1f82f368259d1ca4ffa5dd8f9f5/imagenet1000_clsidx_to_labels.txt"
   ]
  },
  {
   "cell_type": "code",
   "execution_count": null,
   "id": "754a8958",
   "metadata": {},
   "outputs": [],
   "source": [
    "with open('imagenet1000_clsidx_to_labels.txt') as f:\n",
    "    index2label = ast.literal_eval(f.read())"
   ]
  },
  {
   "cell_type": "code",
   "execution_count": null,
   "id": "fe3d7f44",
   "metadata": {},
   "outputs": [],
   "source": [
    "%%capture\n",
    "!wget https://images.pexels.com/photos/2071873/pexels-photo-2071873.jpeg"
   ]
  },
  {
   "cell_type": "code",
   "execution_count": null,
   "id": "37dd2eac",
   "metadata": {},
   "outputs": [],
   "source": [
    "image = cv2.imread('pexels-photo-2071873.jpeg')\n",
    "plt.imshow(image[:, :, ::-1])\n",
    "plt.show()"
   ]
  },
  {
   "cell_type": "code",
   "execution_count": null,
   "id": "b22a61ff",
   "metadata": {},
   "outputs": [],
   "source": [
    "data = transform(PIL.Image.fromarray(image))\n",
    "with torch.no_grad():\n",
    "    pred = model(data.unsqueeze(0).to(device))\n",
    "prob = F.softmax(pred, dim=1).cpu()\n",
    "\n",
    "scores, indices = prob.topk(k=5)\n",
    "scores = scores.numpy().ravel()\n",
    "\n",
    "indices = indices.numpy().ravel()\n",
    "names = [index2label[index] for index in indices]\n",
    "pd.DataFrame({'label': names, 'score': scores})"
   ]
  }
 ],
 "metadata": {
  "kernelspec": {
   "display_name": "Python 3",
   "language": "python",
   "name": "python3"
  },
  "language_info": {
   "codemirror_mode": {
    "name": "ipython",
    "version": 3
   },
   "file_extension": ".py",
   "mimetype": "text/x-python",
   "name": "python",
   "nbconvert_exporter": "python",
   "pygments_lexer": "ipython3",
   "version": "3.8.8"
  }
 },
 "nbformat": 4,
 "nbformat_minor": 5
}
