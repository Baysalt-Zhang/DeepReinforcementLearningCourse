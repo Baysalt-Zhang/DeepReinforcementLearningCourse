{
 "cells": [
  {
   "cell_type": "markdown",
   "id": "ac9b2a81",
   "metadata": {},
   "source": [
    "## 4.3 LASSO回归"
   ]
  },
  {
   "cell_type": "code",
   "execution_count": null,
   "id": "6626f341",
   "metadata": {},
   "outputs": [],
   "source": [
    "# 导入numpy模块\n",
    "import numpy as np\n",
    "### 定义符号函数\n",
    "def sign(x):\n",
    "    '''\n",
    "    输入：\n",
    "    x：浮点数值\n",
    "    输出：\n",
    "    整型数值\n",
    "    '''\n",
    "    if x > 0:\n",
    "        return 1\n",
    "    elif x < 0:\n",
    "        return -1\n",
    "    else:\n",
    "        return 0\n",
    "# 利用Numpy对符号函数进行向量化\n",
    "vec_sign = np.vectorize(sign)"
   ]
  },
  {
   "cell_type": "code",
   "execution_count": null,
   "id": "1690b9a9",
   "metadata": {},
   "outputs": [],
   "source": [
    "### 定义LASSO回归损失函数\n",
    "def l1_loss(X, y, w, b, alpha):\n",
    "    '''\n",
    "    输入：\n",
    "    X：输入变量矩阵\n",
    "    y：输出标签向量\n",
    "    w：变量参数权重矩阵\n",
    "    b：偏置\n",
    "    alpha：\n",
    "    输出：\n",
    "    y_hat：\n",
    "    loss：\n",
    "    dw：\n",
    "    db：\n",
    "    '''"
   ]
  }
 ],
 "metadata": {
  "kernelspec": {
   "display_name": "Python 3",
   "language": "python",
   "name": "python3"
  },
  "language_info": {
   "codemirror_mode": {
    "name": "ipython",
    "version": 3
   },
   "file_extension": ".py",
   "mimetype": "text/x-python",
   "name": "python",
   "nbconvert_exporter": "python",
   "pygments_lexer": "ipython3",
   "version": "3.8.8"
  }
 },
 "nbformat": 4,
 "nbformat_minor": 5
}
