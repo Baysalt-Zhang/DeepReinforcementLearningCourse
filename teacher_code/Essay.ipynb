{
 "cells": [
  {
   "cell_type": "markdown",
   "id": "8d94dccd",
   "metadata": {},
   "source": [
    "# Theory and Application of Reinforcement Learning\n",
    "## 1 What is reinforement learning?\n",
    "- Definition: RL is a process in which the RL **agent** receives **rewards** by observing **state** and acting in the **environment** so that the agent can learn to choose appropriate **actions** that maximise the expected cumulative reward over time. \n",
    "### 1.1 Elements of RL\n",
    "(100 = 20 * 5)\n",
    "### 1.2 Markov Decision Processes\n",
    "(if necesssay)\n",
    "### 1.3 Q-learning(Q-value and V-value)\n",
    "(800-1000)\n",
    "## 2 Application\n",
    "### 2.1 Some cases in specialised Environment（about Q-learning）\n",
    "（200-300）\n"
   ]
  },
  {
   "cell_type": "code",
   "execution_count": null,
   "id": "7b20334d",
   "metadata": {},
   "outputs": [],
   "source": []
  }
 ],
 "metadata": {
  "kernelspec": {
   "display_name": "Python 3",
   "language": "python",
   "name": "python3"
  },
  "language_info": {
   "codemirror_mode": {
    "name": "ipython",
    "version": 3
   },
   "file_extension": ".py",
   "mimetype": "text/x-python",
   "name": "python",
   "nbconvert_exporter": "python",
   "pygments_lexer": "ipython3",
   "version": "3.8.8"
  }
 },
 "nbformat": 4,
 "nbformat_minor": 5
}
